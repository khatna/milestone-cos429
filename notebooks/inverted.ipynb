{
 "cells": [
  {
   "cell_type": "code",
   "execution_count": 2,
   "metadata": {},
   "outputs": [],
   "source": [
    "import tensorflow as tf\n",
    "import tensorflow.keras.layers as layers\n",
    "import numpy as np\n",
    "import matplotlib.pyplot as plt"
   ]
  },
  {
   "cell_type": "code",
   "execution_count": 10,
   "metadata": {},
   "outputs": [
    {
     "output_type": "stream",
     "name": "stdout",
     "text": [
      "Found 7200 files belonging to 24 classes.\n"
     ]
    }
   ],
   "source": [
    "IMAGE_SIZE = 128\n",
    "def getDataset(path):\n",
    "    return tf.keras.preprocessing.image_dataset_from_directory(\n",
    "        path,\n",
    "        labels='inferred',\n",
    "        image_size=(IMAGE_SIZE, IMAGE_SIZE),\n",
    "        color_mode='grayscale',\n",
    "    )\n",
    "\n",
    "# Construct the Columbia datasets\n",
    "def invert(x,y): return (-x, y)\n",
    "\n",
    "data = getDataset('../data/created_dataset')\n",
    "data_inv = data.map(invert)"
   ]
  },
  {
   "cell_type": "code",
   "execution_count": 19,
   "metadata": {
    "tags": []
   },
   "outputs": [],
   "source": [
    "X = np.empty((14400, 128, 128, 1))\n",
    "y = np.empty(14400)\n",
    "\n",
    "i = 0\n",
    "for batch, lbls in data.take(-1):\n",
    "    X[i*32:(i+1)*32] = batch\n",
    "    y[i*32:(i+1)*32] = 0\n",
    "    i += 1\n",
    "\n",
    "for batch, lbls in data_inv.take(-1):\n",
    "    X[i*32:(i+1)*32] = batch\n",
    "    y[i*32:(i+1)*32] = 1\n",
    "    i += 1"
   ]
  },
  {
   "cell_type": "code",
   "execution_count": 42,
   "metadata": {},
   "outputs": [
    {
     "output_type": "stream",
     "name": "stdout",
     "text": [
      "Model: \"sequential_7\"\n_________________________________________________________________\nLayer (type)                 Output Shape              Param #   \n=================================================================\nrescaling_4 (Rescaling)      (None, 128, 128, 1)       0         \n_________________________________________________________________\nflatten_7 (Flatten)          (None, 16384)             0         \n_________________________________________________________________\ndense_24 (Dense)             (None, 128)               2097280   \n_________________________________________________________________\ndropout_19 (Dropout)         (None, 128)               0         \n_________________________________________________________________\nbatch_normalization_19 (Batc (None, 128)               512       \n_________________________________________________________________\ndense_25 (Dense)             (None, 10)                1290      \n_________________________________________________________________\ndropout_20 (Dropout)         (None, 10)                0         \n_________________________________________________________________\nbatch_normalization_20 (Batc (None, 10)                40        \n_________________________________________________________________\ndense_26 (Dense)             (None, 1)                 11        \n=================================================================\nTotal params: 2,099,133\nTrainable params: 2,098,857\nNon-trainable params: 276\n_________________________________________________________________\n"
     ]
    }
   ],
   "source": [
    "l = [\n",
    "    layers.experimental.preprocessing.Rescaling(1./127.5, offset=-1, input_shape=(128,128,1)),\n",
    "    layers.Flatten(),\n",
    "    \n",
    "    layers.Dense(128, activation='relu'),\n",
    "    layers.Dropout(0.5),\n",
    "    layers.BatchNormalization(),\n",
    "\n",
    "    layers.Dense(10, activation='relu'),\n",
    "    layers.Dropout(0.5),\n",
    "    layers.BatchNormalization(),\n",
    "    \n",
    "    layers.Dense(1, activation='sigmoid')\n",
    "]\n",
    "\n",
    "model = tf.keras.Sequential(l)\n",
    "model.summary()"
   ]
  },
  {
   "cell_type": "code",
   "execution_count": 43,
   "metadata": {},
   "outputs": [
    {
     "output_type": "stream",
     "name": "stdout",
     "text": [
      "5/5 [==============================] - 2s 317ms/step - loss: 0.8727 - accuracy: 0.3355\n",
      "Epoch 1/5\n",
      "360/360 [==============================] - 10s 29ms/step - loss: 0.0714 - accuracy: 0.9778 - val_loss: 6.3300e-06 - val_accuracy: 1.0000\n",
      "Epoch 2/5\n",
      "360/360 [==============================] - 11s 30ms/step - loss: 0.0405 - accuracy: 0.9825 - val_loss: 5.8913e-06 - val_accuracy: 1.0000\n",
      "Epoch 3/5\n",
      "360/360 [==============================] - 13s 36ms/step - loss: 0.0449 - accuracy: 0.9802 - val_loss: 1.1276e-05 - val_accuracy: 1.0000\n",
      "Epoch 4/5\n",
      "360/360 [==============================] - 12s 33ms/step - loss: 0.0382 - accuracy: 0.9835 - val_loss: 3.6845e-04 - val_accuracy: 1.0000\n",
      "Epoch 5/5\n",
      "360/360 [==============================] - 12s 34ms/step - loss: 0.0401 - accuracy: 0.9838 - val_loss: 3.7038e-06 - val_accuracy: 1.0000\n"
     ]
    }
   ],
   "source": [
    "model.compile(\n",
    "    optimizer=tf.keras.optimizers.Adam(1e-2),\n",
    "    loss='binary_crossentropy',\n",
    "    metrics=['accuracy']\n",
    ")\n",
    "model.evaluate(X, y, steps=5)\n",
    "history = model.fit(X, y, validation_split=0.2, epochs=5)"
   ]
  },
  {
   "cell_type": "code",
   "execution_count": 45,
   "metadata": {},
   "outputs": [],
   "source": [
    "tf.keras.models.save_model(model, 'inverted.h5')"
   ]
  }
 ],
 "metadata": {
  "kernelspec": {
   "name": "python3",
   "display_name": "Python 3"
  }
 },
 "nbformat": 4,
 "nbformat_minor": 4
}